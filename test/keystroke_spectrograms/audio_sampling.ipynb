{
 "cells": [
  {
   "metadata": {
    "ExecuteTime": {
     "end_time": "2025-03-05T02:06:47.844981Z",
     "start_time": "2025-03-05T02:06:47.522310Z"
    }
   },
   "cell_type": "code",
   "source": [
    "import csv\n",
    "import time\n",
    "import threading\n",
    "import sounddevice as sd\n",
    "import numpy as np\n",
    "from scipy.io.wavfile import write as wav_write\n",
    "from pynput import keyboard\n",
    "import numpy as np"
   ],
   "id": "9a56bc60676fece8",
   "outputs": [],
   "execution_count": 4
  },
  {
   "metadata": {
    "collapsed": true,
    "ExecuteTime": {
     "end_time": "2025-03-05T02:13:08.430904Z",
     "start_time": "2025-03-05T02:13:01.486164Z"
    }
   },
   "cell_type": "code",
   "source": [
    "import csv\n",
    "import time\n",
    "import threading\n",
    "import sounddevice as sd\n",
    "import numpy as np\n",
    "from scipy.io.wavfile import write as wav_write\n",
    "from pynput import keyboard\n",
    "\n",
    "# Parameters for sound recording\n",
    "sample_rate = 44100  # Hz\n",
    "duration = 3  # seconds\n",
    "audio_data = np.zeros((duration * sample_rate, 1), dtype=np.int16)\n",
    "\n",
    "# File paths\n",
    "audio_file = 'keyboard_sound.wav'\n",
    "log_file = 'key_log.csv'\n",
    "\n",
    "# Initialize the keystroke log file\n",
    "with open(log_file, 'w', newline='') as file:\n",
    "    writer = csv.writer(file)\n",
    "    writer.writerow(['Key', 'Action', 'Timestamp'])\n",
    "\n",
    "# Recording function for audio\n",
    "def record_audio():\n",
    "    global audio_data\n",
    "    print(\"Recording audio...\")\n",
    "    audio_data = sd.rec(int(duration * sample_rate), samplerate=sample_rate, channels=1, dtype='int16')\n",
    "    sd.wait()\n",
    "    print(\"Audio recording finished\")\n",
    "\n",
    "    # Save the recorded audio to a WAV file\n",
    "    wav_write(audio_file, sample_rate, audio_data)\n",
    "    print(f\"Audio saved to {audio_file}\")\n",
    "\n",
    "# Keystroke listener function\n",
    "def on_press(key):\n",
    "    timestamp = time.time()\n",
    "    try:\n",
    "        key_str = key.char  # Normal keys\n",
    "    except AttributeError:\n",
    "        key_str = str(key)  # Special keys like shift, ctrl, etc.\n",
    "\n",
    "    # Log the key press with timestamp\n",
    "    with open(log_file, 'a', newline='') as file:\n",
    "        writer = csv.writer(file)\n",
    "        writer.writerow([key_str, 'Pressed', timestamp])\n",
    "\n",
    "    print(f\"Key {key_str} Pressed at {timestamp}\")\n",
    "\n",
    "def on_release(key):\n",
    "    timestamp = time.time()\n",
    "    try:\n",
    "        key_str = key.char\n",
    "    except AttributeError:\n",
    "        key_str = str(key)\n",
    "\n",
    "    # Log the key release with timestamp\n",
    "    with open(log_file, 'a', newline='') as file:\n",
    "        writer = csv.writer(file)\n",
    "        writer.writerow([key_str, 'Released', timestamp])\n",
    "\n",
    "    print(f\"Key {key_str} Released at {timestamp}\")\n",
    "\n",
    "    # Stop listener if 'Esc' key is pressed\n",
    "    if key == keyboard.Key.esc:\n",
    "        return False\n",
    "\n",
    "# Start recording audio in a separate thread\n",
    "audio_thread = threading.Thread(target=record_audio)\n",
    "audio_thread.start()\n",
    "\n",
    "# Start the keyboard listener in the main thread to avoid blocking\n",
    "def start_keyboard_listener():\n",
    "    with keyboard.Listener(on_press=on_press, on_release=on_release) as listener:\n",
    "        listener.join()\n",
    "\n",
    "# Run the keyboard listener in a separate thread\n",
    "keyboard_thread = threading.Thread(target=start_keyboard_listener)\n",
    "keyboard_thread.start()\n",
    "\n",
    "# Wait for both threads to finish\n",
    "audio_thread.join()\n",
    "keyboard_thread.join()\n"
   ],
   "id": "initial_id",
   "outputs": [
    {
     "name": "stdout",
     "output_type": "stream",
     "text": [
      "Recording audio...\n",
      "Audio recording finished\n",
      "Audio saved to keyboard_sound.wav\n"
     ]
    }
   ],
   "execution_count": 12
  },
  {
   "metadata": {
    "ExecuteTime": {
     "end_time": "2025-03-05T02:06:40.677168Z",
     "start_time": "2025-03-05T02:06:40.674993Z"
    }
   },
   "cell_type": "code",
   "source": [
    "# now extract key strokes from the keystroke timestamp\n",
    "\n",
    "with open(\"key_log.csv\",\"r\") as audio_data\n",
    "    reader = csv.reader(audio_data)\n",
    "    keystroke_times = []\n",
    "    for row in reader:\n",
    "        # create a stack that gets all the keys pressed. If there are more than one pressed for example shift + a, then we will have a stack of keys\n"
   ],
   "id": "a5a204f36f7edef3",
   "outputs": [],
   "execution_count": 3
  },
  {
   "metadata": {},
   "cell_type": "code",
   "outputs": [],
   "execution_count": null,
   "source": "",
   "id": "21a47cf727991ffd"
  }
 ],
 "metadata": {
  "kernelspec": {
   "display_name": "Python 3",
   "language": "python",
   "name": "python3"
  },
  "language_info": {
   "codemirror_mode": {
    "name": "ipython",
    "version": 2
   },
   "file_extension": ".py",
   "mimetype": "text/x-python",
   "name": "python",
   "nbconvert_exporter": "python",
   "pygments_lexer": "ipython2",
   "version": "2.7.6"
  }
 },
 "nbformat": 4,
 "nbformat_minor": 5
}
