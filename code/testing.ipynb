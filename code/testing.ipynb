{
 "cells": [
  {
   "cell_type": "code",
   "execution_count": 9,
   "metadata": {},
   "outputs": [
    {
     "name": "stdout",
     "output_type": "stream",
     "text": [
      "Error: Could not extract key from filename: keystroke_412_+.npy. Make sure it is a valid key (aA-zZ)\n",
      "Warning : Spectrogram tensor shape torch.Size([1, 8, 300]) does not match the expected size torch.Size([1, 129, 300])\n",
      "Error: Could not extract key from filename: keystroke_429_;.npy. Make sure it is a valid key (aA-zZ)\n",
      "Error: Could not extract key from filename: keystroke_205_Key.esc.npy. Make sure it is a valid key (aA-zZ)\n",
      "Error: Could not extract key from filename: keystroke_602_Key.space.npy. Make sure it is a valid key (aA-zZ)\n",
      "Warning : Spectrogram tensor shape torch.Size([1, 7, 300]) does not match the expected size torch.Size([1, 129, 300])\n",
      "Warning : Spectrogram tensor shape torch.Size([1, 8, 300]) does not match the expected size torch.Size([1, 129, 300])\n",
      "Error: Could not extract key from filename: keystroke_1096_Key.esc.npy. Make sure it is a valid key (aA-zZ)\n",
      "Warning : Spectrogram tensor shape torch.Size([1, 8, 300]) does not match the expected size torch.Size([1, 129, 300])\n",
      "loaded 1275 spectrograms\n"
     ]
    }
   ],
   "source": [
    "from model import * \n",
    "\n",
    "features,labels,_ = load_spectrograms_from_directory(\"dell/numpy_arrays\")"
   ]
  },
  {
   "cell_type": "code",
   "execution_count": null,
   "metadata": {},
   "outputs": [],
   "source": []
  }
 ],
 "metadata": {
  "kernelspec": {
   "display_name": "venv",
   "language": "python",
   "name": "python3"
  },
  "language_info": {
   "codemirror_mode": {
    "name": "ipython",
    "version": 3
   },
   "file_extension": ".py",
   "mimetype": "text/x-python",
   "name": "python",
   "nbconvert_exporter": "python",
   "pygments_lexer": "ipython3",
   "version": "3.12.2"
  }
 },
 "nbformat": 4,
 "nbformat_minor": 2
}
